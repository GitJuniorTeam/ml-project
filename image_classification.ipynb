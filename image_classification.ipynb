{
 "cells": [
  {
   "cell_type": "markdown",
   "metadata": {
    "id": "IXtCbSV7F47l"
   },
   "source": [
    "(a) Data Exploration and preparation"
   ]
  },
  {
   "cell_type": "code",
   "execution_count": 1,
   "metadata": {
    "id": "5TeE_Xu4F47m"
   },
   "outputs": [],
   "source": [
    "import pandas as pd\n",
    "import numpy as np\n",
    "import tensorflow as tf\n",
    "from tensorflow import keras\n",
    "from keras import layers, models\n",
    "import matplotlib.pyplot as plt\n",
    "from sklearn.model_selection import train_test_split\n",
    "from sklearn.neighbors import KNeighborsClassifier\n",
    "from sklearn.metrics import accuracy_score, confusion_matrix, classification_report\n",
    "from sklearn.model_selection import GridSearchCV\n",
    "from joblib import dump, load"
   ]
  },
  {
   "cell_type": "code",
   "execution_count": 2,
   "metadata": {
    "id": "wYL4QBHNF47o"
   },
   "outputs": [],
   "source": [
    "# Load the dataset and perform initial data exploration.\n",
    "train_data = pd.read_csv('Data/mnist_train.csv')"
   ]
  },
  {
   "cell_type": "code",
   "execution_count": 3,
   "metadata": {
    "colab": {
     "base_uri": "https://localhost:8080/"
    },
    "id": "-vLhXESXF47o",
    "outputId": "ae3372c5-6e46-4487-bfc0-34e749748c1d"
   },
   "outputs": [
    {
     "name": "stdout",
     "output_type": "stream",
     "text": [
      "Number of classes: 10\n"
     ]
    }
   ],
   "source": [
    "# Identify the number of unique classes.\n",
    "classes_num = train_data['label'].nunique()\n",
    "print('Number of classes: {}'.format(classes_num))"
   ]
  },
  {
   "cell_type": "code",
   "execution_count": 4,
   "metadata": {
    "colab": {
     "base_uri": "https://localhost:8080/"
    },
    "id": "9EDZdOWsF47o",
    "outputId": "da016905-ea2d-4938-b16c-44bb4504f539"
   },
   "outputs": [
    {
     "name": "stdout",
     "output_type": "stream",
     "text": [
      "784\n"
     ]
    }
   ],
   "source": [
    "# Identify the number of features.\n",
    "print(len(train_data.columns.tolist()) - 1)"
   ]
  },
  {
   "cell_type": "code",
   "execution_count": 5,
   "metadata": {
    "colab": {
     "base_uri": "https://localhost:8080/"
    },
    "id": "fRq25FjEF47p",
    "outputId": "e353e517-f976-48e2-8096-1f007ecee023"
   },
   "outputs": [
    {
     "name": "stdout",
     "output_type": "stream",
     "text": [
      "0\n"
     ]
    }
   ],
   "source": [
    "# Check for missing values.\n",
    "print(train_data.isnull().sum().sum())"
   ]
  },
  {
   "cell_type": "code",
   "execution_count": 6,
   "metadata": {
    "colab": {
     "base_uri": "https://localhost:8080/"
    },
    "id": "HwCxfOfrF47p",
    "outputId": "f9b51277-8865-48f8-dc7b-7dbf4fb9a357"
   },
   "outputs": [],
   "source": [
    "# Normalize each image by dividing each pixel by 255.\n",
    "train_data.iloc[:, 1:] = train_data.drop('label', axis=1) / 255.0"
   ]
  },
  {
   "cell_type": "code",
   "execution_count": 7,
   "metadata": {
    "id": "QkkdsmlRF47p"
   },
   "outputs": [],
   "source": [
    "X = train_data.drop('label', axis=1)\n",
    "y = train_data['label']"
   ]
  },
  {
   "cell_type": "markdown",
   "metadata": {
    "id": "cTbGwDsLF47q"
   },
   "source": [
    "Resize images to dimensions of 28 by 28. After resizing, visualize some\n",
    "images to verify the correctness of the reshaping process."
   ]
  },
  {
   "cell_type": "code",
   "execution_count": 8,
   "metadata": {
    "colab": {
     "base_uri": "https://localhost:8080/",
     "height": 303
    },
    "id": "Pap90NsFF47q",
    "outputId": "e880f8e7-45c2-4d73-d269-bf3f323c9992"
   },
   "outputs": [
    {
     "data": {
      "image/png": "[encoded data removed]",
      "text/plain": [
       "<Figure size 640x480 with 6 Axes>"
      ]
     },
     "metadata": {},
     "output_type": "display_data"
    }
   ],
   "source": [
    "grid = X[: 6].values.reshape(6, 28, 28)\n",
    "for i in range(6):\n",
    "    plt.subplot(330 + 1 + i)\n",
    "    plt.imshow(grid[i], cmap=plt.get_cmap('gray'))\n",
    "plt.show()"
   ]
  },
  {
   "cell_type": "code",
   "execution_count": 9,
   "metadata": {
    "id": "HutlwMyPF47q"
   },
   "outputs": [],
   "source": [
    "# Split the training data (mnist_train) into training and validation sets.\n",
    "X_train, X_test, y_train, y_test = train_test_split(X, y, test_size=0.2)"
   ]
  },
  {
   "cell_type": "markdown",
   "metadata": {
    "id": "w5z2xngzF47r"
   },
   "source": [
    "\n",
    "\n",
    "Initial Experiment:\n",
    "Implement the K-NN algorithm for classification\n",
    "and utilize a grid search technique\n",
    "to determine the optimal hyper parameters.\n"
   ]
  },
  {
   "cell_type": "code",
   "execution_count": 24,
   "metadata": {
    "colab": {
     "base_uri": "https://localhost:8080/"
    },
    "id": "OhR4NFnvF47r",
    "outputId": "493f0d18-e379-4914-b31b-2d02f62eecec"
   },
   "outputs": [],
   "source": [
    "knn_model = KNeighborsClassifier()\n",
    "\n",
    "knn_parameters = {\n",
    "    'n_neighbors': [5, 7, 9, 11],\n",
    "    'weights': ['uniform', 'distance'],\n",
    "    # 'metric': ['euclidean', 'manhattan'],\n",
    "    # 'algorithm' : ['brute', 'kd_tree'],\n",
    "    # 'leaf_size': np.arange(25, 35, 5)\n",
    "}\n",
    "\n",
    "knn_grid = GridSearchCV(knn_model, knn_parameters, cv=3, scoring='accuracy', verbose=1, n_jobs=-1)"
   ]
  },
  {
   "cell_type": "code",
   "execution_count": 25,
   "metadata": {},
   "outputs": [
    {
     "name": "stdout",
     "output_type": "stream",
     "text": [
      "Fitting 3 folds for each of 8 candidates, totalling 24 fits\n"
     ]
    }
   ],
   "source": [
    "knn_best_params = knn_grid.fit(X_train, y_train)\n",
    "\n",
    "knn_model = knn_grid.best_estimator_"
   ]
  },
  {
   "cell_type": "code",
   "execution_count": 26,
   "metadata": {
    "id": "c_qz9BMzF47r"
   },
   "outputs": [
    {
     "data": {
      "text/html": [
       "<style>#sk-container-id-4 {color: black;}#sk-container-id-4 pre{padding: 0;}#sk-container-id-4 div.sk-toggleable {background-color: white;}#sk-container-id-4 label.sk-toggleable__label {cursor: pointer;display: block;width: 100%;margin-bottom: 0;padding: 0.3em;box-sizing: border-box;text-align: center;}#sk-container-id-4 label.sk-toggleable__label-arrow:before {content: \"▸\";float: left;margin-right: 0.25em;color: #696969;}#sk-container-id-4 label.sk-toggleable__label-arrow:hover:before {color: black;}#sk-container-id-4 div.sk-estimator:hover label.sk-toggleable__label-arrow:before {color: black;}#sk-container-id-4 div.sk-toggleable__content {max-height: 0;max-width: 0;overflow: hidden;text-align: left;background-color: #f0f8ff;}#sk-container-id-4 div.sk-toggleable__content pre {margin: 0.2em;color: black;border-radius: 0.25em;background-color: #f0f8ff;}#sk-container-id-4 input.sk-toggleable__control:checked~div.sk-toggleable__content {max-height: 200px;max-width: 100%;overflow: auto;}#sk-container-id-4 input.sk-toggleable__control:checked~label.sk-toggleable__label-arrow:before {content: \"▾\";}#sk-container-id-4 div.sk-estimator input.sk-toggleable__control:checked~label.sk-toggleable__label {background-color: #d4ebff;}#sk-container-id-4 div.sk-label input.sk-toggleable__control:checked~label.sk-toggleable__label {background-color: #d4ebff;}#sk-container-id-4 input.sk-hidden--visually {border: 0;clip: rect(1px 1px 1px 1px);clip: rect(1px, 1px, 1px, 1px);height: 1px;margin: -1px;overflow: hidden;padding: 0;position: absolute;width: 1px;}#sk-container-id-4 div.sk-estimator {font-family: monospace;background-color: #f0f8ff;border: 1px dotted black;border-radius: 0.25em;box-sizing: border-box;margin-bottom: 0.5em;}#sk-container-id-4 div.sk-estimator:hover {background-color: #d4ebff;}#sk-container-id-4 div.sk-parallel-item::after {content: \"\";width: 100%;border-bottom: 1px solid gray;flex-grow: 1;}#sk-container-id-4 div.sk-label:hover label.sk-toggleable__label {background-color: #d4ebff;}#sk-container-id-4 div.sk-serial::before {content: \"\";position: absolute;border-left: 1px solid gray;box-sizing: border-box;top: 0;bottom: 0;left: 50%;z-index: 0;}#sk-container-id-4 div.sk-serial {display: flex;flex-direction: column;align-items: center;background-color: white;padding-right: 0.2em;padding-left: 0.2em;position: relative;}#sk-container-id-4 div.sk-item {position: relative;z-index: 1;}#sk-container-id-4 div.sk-parallel {display: flex;align-items: stretch;justify-content: center;background-color: white;position: relative;}#sk-container-id-4 div.sk-item::before, #sk-container-id-4 div.sk-parallel-item::before {content: \"\";position: absolute;border-left: 1px solid gray;box-sizing: border-box;top: 0;bottom: 0;left: 50%;z-index: -1;}#sk-container-id-4 div.sk-parallel-item {display: flex;flex-direction: column;z-index: 1;position: relative;background-color: white;}#sk-container-id-4 div.sk-parallel-item:first-child::after {align-self: flex-end;width: 50%;}#sk-container-id-4 div.sk-parallel-item:last-child::after {align-self: flex-start;width: 50%;}#sk-container-id-4 div.sk-parallel-item:only-child::after {width: 0;}#sk-container-id-4 div.sk-dashed-wrapped {border: 1px dashed gray;margin: 0 0.4em 0.5em 0.4em;box-sizing: border-box;padding-bottom: 0.4em;background-color: white;}#sk-container-id-4 div.sk-label label {font-family: monospace;font-weight: bold;display: inline-block;line-height: 1.2em;}#sk-container-id-4 div.sk-label-container {text-align: center;}#sk-container-id-4 div.sk-container {/* jupyter's `normalize.less` sets `[hidden] { display: none; }` but bootstrap.min.css set `[hidden] { display: none !important; }` so we also need the `!important` here to be able to override the default hidden behavior on the sphinx rendered scikit-learn.org. See: https://github.com/scikit-learn/scikit-learn/issues/21755 */display: inline-block !important;position: relative;}#sk-container-id-4 div.sk-text-repr-fallback {display: none;}</style><div id=\"sk-container-id-4\" class=\"sk-top-container\"><div class=\"sk-text-repr-fallback\"><pre>KNeighborsClassifier(weights=&#x27;distance&#x27;)</pre><b>In a Jupyter environment, please rerun this cell to show the HTML representation or trust the notebook. <br />On GitHub, the HTML representation is unable to render, please try loading this page with nbviewer.org.</b></div><div class=\"sk-container\" hidden><div class=\"sk-item\"><div class=\"sk-estimator sk-toggleable\"><input class=\"sk-toggleable__control sk-hidden--visually\" id=\"sk-estimator-id-4\" type=\"checkbox\" checked><label for=\"sk-estimator-id-4\" class=\"sk-toggleable__label sk-toggleable__label-arrow\">KNeighborsClassifier</label><div class=\"sk-toggleable__content\"><pre>KNeighborsClassifier(weights=&#x27;distance&#x27;)</pre></div></div></div></div></div>"
      ],
      "text/plain": [
       "KNeighborsClassifier(weights='distance')"
      ]
     },
     "execution_count": 26,
     "metadata": {},
     "output_type": "execute_result"
    }
   ],
   "source": [
    "knn_model.fit(X_train, y_train)"
   ]
  },
  {
   "cell_type": "code",
   "execution_count": 27,
   "metadata": {
    "id": "ZjwSpuLbF47r"
   },
   "outputs": [],
   "source": [
    "knn_pred = knn_model.predict(X_test)"
   ]
  },
  {
   "cell_type": "code",
   "execution_count": 31,
   "metadata": {
    "id": "XjGDUMOJF47s"
   },
   "outputs": [
    {
     "name": "stdout",
     "output_type": "stream",
     "text": [
      "Accuracy of the model is: 97.22%\n"
     ]
    }
   ],
   "source": [
    "knn_accuracy = accuracy_score(y_test, knn_pred)\n",
    "knn_accuracy = round(knn_accuracy, 4) * 100\n",
    "\n",
    "print(f\"Accuracy of the model is: {knn_accuracy}%\")"
   ]
  },
  {
   "cell_type": "code",
   "execution_count": 33,
   "metadata": {
    "id": "lH_h9jErF47s"
   },
   "outputs": [],
   "source": [
    "ann_y_train = keras.utils.to_categorical(y_train, classes_num)\n",
    "ann_y_test = keras.utils.to_categorical(y_test, classes_num)"
   ]
  },
  {
   "cell_type": "markdown",
   "metadata": {
    "id": "lkvAwbfYF47s"
   },
   "source": [
    "Subsequent Experiment: Construct and train two different architectures\n",
    "of Artificial Neural Network (ANN) for classification, exploring variations in\n",
    "the number of hidden neurons, learning rate, and batch size."
   ]
  },
  {
   "cell_type": "code",
   "execution_count": 34,
   "metadata": {
    "id": "AcjAnl8wF47s"
   },
   "outputs": [],
   "source": [
    "# model 1 (architecture 1)\n",
    "# Create a model with 1 hidden layers with 128 neurons each.\n",
    "ann_first_arch = models.Sequential()\n",
    "\n",
    "# Add the input layer\n",
    "ann_first_arch.add(layers.Flatten())\n",
    "\n",
    "# Add the first hidden layer.\n",
    "ann_first_arch.add(layers.Dense(128, activation='tanh'))\n",
    "\n",
    "# Add the output layer.\n",
    "ann_first_arch.add(layers.Dense(classes_num, activation='softmax'))"
   ]
  },
  {
   "cell_type": "code",
   "execution_count": 35,
   "metadata": {
    "id": "d3loA1GhF47s"
   },
   "outputs": [],
   "source": [
    "adam_optimizer = keras.optimizers.Adam(learning_rate=0.01)\n",
    "ann_first_arch.compile(optimizer=adam_optimizer, loss='categorical_crossentropy', metrics=['accuracy'])"
   ]
  },
  {
   "cell_type": "code",
   "execution_count": 36,
   "metadata": {
    "id": "iXeEGXmNF47s"
   },
   "outputs": [
    {
     "name": "stdout",
     "output_type": "stream",
     "text": [
      "Epoch 1/50\n",
      "1500/1500 [==============================] - 4s 2ms/step - loss: 0.2837 - accuracy: 0.9146 - val_loss: 0.2347 - val_accuracy: 0.9317\n",
      "Epoch 2/50\n",
      "1500/1500 [==============================] - 3s 2ms/step - loss: 0.2095 - accuracy: 0.9374 - val_loss: 0.2186 - val_accuracy: 0.9362\n",
      "Epoch 3/50\n",
      "1500/1500 [==============================] - 3s 2ms/step - loss: 0.1940 - accuracy: 0.9424 - val_loss: 0.2067 - val_accuracy: 0.9430\n",
      "Epoch 4/50\n",
      "1500/1500 [==============================] - 3s 2ms/step - loss: 0.1819 - accuracy: 0.9469 - val_loss: 0.2146 - val_accuracy: 0.9390\n",
      "Epoch 5/50\n",
      "1500/1500 [==============================] - 3s 2ms/step - loss: 0.1675 - accuracy: 0.9512 - val_loss: 0.2129 - val_accuracy: 0.9450\n",
      "Epoch 6/50\n",
      "1500/1500 [==============================] - 3s 2ms/step - loss: 0.1652 - accuracy: 0.9510 - val_loss: 0.2265 - val_accuracy: 0.9423\n",
      "Epoch 7/50\n",
      "1500/1500 [==============================] - 3s 2ms/step - loss: 0.1630 - accuracy: 0.9539 - val_loss: 0.2091 - val_accuracy: 0.9457\n",
      "Epoch 8/50\n",
      "1500/1500 [==============================] - 3s 2ms/step - loss: 0.1588 - accuracy: 0.9540 - val_loss: 0.2149 - val_accuracy: 0.9485\n",
      "Epoch 9/50\n",
      "1500/1500 [==============================] - 5s 3ms/step - loss: 0.1510 - accuracy: 0.9570 - val_loss: 0.2027 - val_accuracy: 0.9471\n",
      "Epoch 10/50\n",
      "1500/1500 [==============================] - 4s 3ms/step - loss: 0.1506 - accuracy: 0.9576 - val_loss: 0.2308 - val_accuracy: 0.9493\n",
      "Epoch 11/50\n",
      "1500/1500 [==============================] - 4s 3ms/step - loss: 0.1494 - accuracy: 0.9576 - val_loss: 0.2384 - val_accuracy: 0.9430\n",
      "Epoch 12/50\n",
      "1500/1500 [==============================] - 3s 2ms/step - loss: 0.1357 - accuracy: 0.9610 - val_loss: 0.1809 - val_accuracy: 0.9568\n",
      "Epoch 13/50\n",
      "1500/1500 [==============================] - 3s 2ms/step - loss: 0.1334 - accuracy: 0.9620 - val_loss: 0.1892 - val_accuracy: 0.9554\n",
      "Epoch 14/50\n",
      "1500/1500 [==============================] - 3s 2ms/step - loss: 0.1334 - accuracy: 0.9622 - val_loss: 0.2200 - val_accuracy: 0.9442\n",
      "Epoch 15/50\n",
      "1500/1500 [==============================] - 3s 2ms/step - loss: 0.1404 - accuracy: 0.9605 - val_loss: 0.1933 - val_accuracy: 0.9531\n",
      "Epoch 16/50\n",
      "1500/1500 [==============================] - 5s 4ms/step - loss: 0.1316 - accuracy: 0.9636 - val_loss: 0.1957 - val_accuracy: 0.9530\n",
      "Epoch 17/50\n",
      "1500/1500 [==============================] - 5s 3ms/step - loss: 0.1314 - accuracy: 0.9617 - val_loss: 0.1878 - val_accuracy: 0.9606\n",
      "Epoch 18/50\n",
      "1500/1500 [==============================] - 7s 5ms/step - loss: 0.1276 - accuracy: 0.9640 - val_loss: 0.1701 - val_accuracy: 0.9607\n",
      "Epoch 19/50\n",
      "1500/1500 [==============================] - 5s 4ms/step - loss: 0.1214 - accuracy: 0.9655 - val_loss: 0.2119 - val_accuracy: 0.9525\n",
      "Epoch 20/50\n",
      "1500/1500 [==============================] - 5s 4ms/step - loss: 0.1258 - accuracy: 0.9656 - val_loss: 0.2165 - val_accuracy: 0.9546\n",
      "Epoch 21/50\n",
      "1500/1500 [==============================] - 5s 3ms/step - loss: 0.1190 - accuracy: 0.9673 - val_loss: 0.1710 - val_accuracy: 0.9616\n",
      "Epoch 22/50\n",
      "1500/1500 [==============================] - 5s 3ms/step - loss: 0.1141 - accuracy: 0.9681 - val_loss: 0.1836 - val_accuracy: 0.9578\n",
      "Epoch 23/50\n",
      "1500/1500 [==============================] - 4s 3ms/step - loss: 0.1159 - accuracy: 0.9680 - val_loss: 0.1979 - val_accuracy: 0.9570\n",
      "Epoch 24/50\n",
      "1500/1500 [==============================] - 5s 3ms/step - loss: 0.1140 - accuracy: 0.9681 - val_loss: 0.2014 - val_accuracy: 0.9567\n",
      "Epoch 25/50\n",
      "1500/1500 [==============================] - 5s 3ms/step - loss: 0.1129 - accuracy: 0.9696 - val_loss: 0.2306 - val_accuracy: 0.9488\n",
      "Epoch 26/50\n",
      "1500/1500 [==============================] - 5s 3ms/step - loss: 0.1236 - accuracy: 0.9671 - val_loss: 0.2222 - val_accuracy: 0.9524\n",
      "Epoch 27/50\n",
      "1500/1500 [==============================] - 5s 3ms/step - loss: 0.1173 - accuracy: 0.9682 - val_loss: 0.1894 - val_accuracy: 0.9592\n",
      "Epoch 28/50\n",
      "1500/1500 [==============================] - 5s 3ms/step - loss: 0.1123 - accuracy: 0.9702 - val_loss: 0.2011 - val_accuracy: 0.9565\n",
      "Epoch 29/50\n",
      "1500/1500 [==============================] - 4s 3ms/step - loss: 0.1198 - accuracy: 0.9680 - val_loss: 0.2138 - val_accuracy: 0.9550\n",
      "Epoch 30/50\n",
      "1500/1500 [==============================] - 4s 3ms/step - loss: 0.1046 - accuracy: 0.9714 - val_loss: 0.1958 - val_accuracy: 0.9594\n",
      "Epoch 31/50\n",
      "1500/1500 [==============================] - 4s 3ms/step - loss: 0.0969 - accuracy: 0.9725 - val_loss: 0.1908 - val_accuracy: 0.9601\n",
      "Epoch 32/50\n",
      "1500/1500 [==============================] - 5s 3ms/step - loss: 0.1064 - accuracy: 0.9703 - val_loss: 0.2192 - val_accuracy: 0.9550\n",
      "Epoch 33/50\n",
      "1500/1500 [==============================] - 5s 3ms/step - loss: 0.1005 - accuracy: 0.9731 - val_loss: 0.2130 - val_accuracy: 0.9584\n",
      "Epoch 34/50\n",
      "1500/1500 [==============================] - 5s 3ms/step - loss: 0.0991 - accuracy: 0.9719 - val_loss: 0.1917 - val_accuracy: 0.9604\n",
      "Epoch 35/50\n",
      "1500/1500 [==============================] - 4s 3ms/step - loss: 0.1046 - accuracy: 0.9721 - val_loss: 0.2274 - val_accuracy: 0.9542\n",
      "Epoch 36/50\n",
      "1500/1500 [==============================] - 4s 3ms/step - loss: 0.0927 - accuracy: 0.9746 - val_loss: 0.2254 - val_accuracy: 0.9526\n",
      "Epoch 37/50\n",
      "1500/1500 [==============================] - 4s 3ms/step - loss: 0.0982 - accuracy: 0.9734 - val_loss: 0.2102 - val_accuracy: 0.9599\n",
      "Epoch 38/50\n",
      "1500/1500 [==============================] - 4s 3ms/step - loss: 0.1003 - accuracy: 0.9737 - val_loss: 0.2194 - val_accuracy: 0.9599\n",
      "Epoch 39/50\n",
      "1500/1500 [==============================] - 5s 3ms/step - loss: 0.0966 - accuracy: 0.9747 - val_loss: 0.2362 - val_accuracy: 0.9547\n",
      "Epoch 40/50\n",
      "1500/1500 [==============================] - 5s 3ms/step - loss: 0.0889 - accuracy: 0.9761 - val_loss: 0.1944 - val_accuracy: 0.9631\n",
      "Epoch 41/50\n",
      "1500/1500 [==============================] - 5s 3ms/step - loss: 0.0953 - accuracy: 0.9761 - val_loss: 0.2193 - val_accuracy: 0.9585\n",
      "Epoch 42/50\n",
      "1500/1500 [==============================] - 5s 3ms/step - loss: 0.0934 - accuracy: 0.9753 - val_loss: 0.2212 - val_accuracy: 0.9573\n",
      "Epoch 43/50\n",
      "1500/1500 [==============================] - 5s 3ms/step - loss: 0.0890 - accuracy: 0.9760 - val_loss: 0.2094 - val_accuracy: 0.9597\n",
      "Epoch 44/50\n",
      "1500/1500 [==============================] - 5s 3ms/step - loss: 0.0876 - accuracy: 0.9767 - val_loss: 0.2076 - val_accuracy: 0.9615\n",
      "Epoch 45/50\n",
      "1500/1500 [==============================] - 5s 3ms/step - loss: 0.0946 - accuracy: 0.9749 - val_loss: 0.2238 - val_accuracy: 0.9598\n",
      "Epoch 46/50\n",
      "1500/1500 [==============================] - 5s 3ms/step - loss: 0.0902 - accuracy: 0.9761 - val_loss: 0.2189 - val_accuracy: 0.9591\n",
      "Epoch 47/50\n",
      "1500/1500 [==============================] - 5s 3ms/step - loss: 0.0816 - accuracy: 0.9778 - val_loss: 0.2034 - val_accuracy: 0.9629\n",
      "Epoch 48/50\n",
      "1500/1500 [==============================] - 5s 3ms/step - loss: 0.0924 - accuracy: 0.9766 - val_loss: 0.2266 - val_accuracy: 0.9592\n",
      "Epoch 49/50\n",
      "1500/1500 [==============================] - 5s 3ms/step - loss: 0.0900 - accuracy: 0.9763 - val_loss: 0.2264 - val_accuracy: 0.9581\n",
      "Epoch 50/50\n",
      "1500/1500 [==============================] - 5s 3ms/step - loss: 0.0857 - accuracy: 0.9778 - val_loss: 0.2196 - val_accuracy: 0.9620\n"
     ]
    },
    {
     "data": {
      "text/plain": [
       "<keras.callbacks.History at 0x2640828bf40>"
      ]
     },
     "execution_count": 36,
     "metadata": {},
     "output_type": "execute_result"
    }
   ],
   "source": [
    "ann_first_arch.fit(X_train, ann_y_train, epochs=50, batch_size=32, validation_data=(X_test, ann_y_test))"
   ]
  },
  {
   "cell_type": "code",
   "execution_count": 37,
   "metadata": {
    "id": "tNu5XifbF47s"
   },
   "outputs": [
    {
     "name": "stdout",
     "output_type": "stream",
     "text": [
      "375/375 [==============================] - 1s 2ms/step\n"
     ]
    }
   ],
   "source": [
    "ann_first_arch_pred = ann_first_arch.predict(X_test)"
   ]
  },
  {
   "cell_type": "code",
   "execution_count": 38,
   "metadata": {
    "id": "daYc63W1F47s"
   },
   "outputs": [
    {
     "name": "stdout",
     "output_type": "stream",
     "text": [
      "Accuracy of the model is: 96.2%\n"
     ]
    }
   ],
   "source": [
    "ann_first_arch_pred = tf.argmax(ann_first_arch_pred, axis=1)\n",
    "\n",
    "ann_first_arch_accuracy = accuracy_score(y_test, ann_first_arch_pred ) * 100\n",
    "ann_first_arch_accuracy = round(ann_first_arch_accuracy, 4)\n",
    "\n",
    "print(f\"Accuracy of the model is: {ann_first_arch_accuracy}%\")"
   ]
  },
  {
   "cell_type": "code",
   "execution_count": 39,
   "metadata": {
    "id": "dZLruv80F47t"
   },
   "outputs": [],
   "source": [
    "# model 2 (architecture 2)\n",
    "# Create a model with 3 hidden layers\n",
    "ann_second_arch = models.Sequential()\n",
    "\n",
    "# Add the input layer\n",
    "ann_second_arch.add(layers.Flatten())\n",
    "\n",
    "# Add the first hidden layer. with 64 neurons\n",
    "ann_second_arch.add(layers.Dense(64, activation='relu'))\n",
    "\n",
    "# Add the second hidden layer. with 128 neurons\n",
    "ann_second_arch.add(layers.Dense(128, activation='relu'))\n",
    "\n",
    "# Add the third hidden layer. with 64 neurons\n",
    "ann_second_arch.add(layers.Dense(64, activation='relu'))\n",
    "\n",
    "# Add the output layer.\n",
    "ann_second_arch.add(layers.Dense(classes_num, activation='sigmoid'))"
   ]
  },
  {
   "cell_type": "code",
   "execution_count": 40,
   "metadata": {
    "id": "qvYmwXdfF47t"
   },
   "outputs": [],
   "source": [
    "sgd_optimizer = keras.optimizers.SGD(learning_rate=0.03)\n",
    "ann_second_arch.compile(optimizer=sgd_optimizer, loss='categorical_crossentropy', metrics=['accuracy'])"
   ]
  },
  {
   "cell_type": "code",
   "execution_count": 41,
   "metadata": {
    "id": "3UbP4EBsF47t"
   },
   "outputs": [
    {
     "name": "stdout",
     "output_type": "stream",
     "text": [
      "Epoch 1/100\n",
      "750/750 [==============================] - 4s 4ms/step - loss: 0.6682 - accuracy: 0.8118 - val_loss: 0.3236 - val_accuracy: 0.9071\n",
      "Epoch 2/100\n",
      "750/750 [==============================] - 3s 4ms/step - loss: 0.2672 - accuracy: 0.9226 - val_loss: 0.2441 - val_accuracy: 0.9298\n",
      "Epoch 3/100\n",
      "750/750 [==============================] - 3s 3ms/step - loss: 0.2082 - accuracy: 0.9398 - val_loss: 0.2038 - val_accuracy: 0.9412\n",
      "Epoch 4/100\n",
      "750/750 [==============================] - 2s 3ms/step - loss: 0.1756 - accuracy: 0.9478 - val_loss: 0.1841 - val_accuracy: 0.9477\n",
      "Epoch 5/100\n",
      "750/750 [==============================] - 3s 3ms/step - loss: 0.1520 - accuracy: 0.9551 - val_loss: 0.1728 - val_accuracy: 0.9497\n",
      "Epoch 6/100\n",
      "750/750 [==============================] - 3s 4ms/step - loss: 0.1345 - accuracy: 0.9602 - val_loss: 0.1613 - val_accuracy: 0.9537\n",
      "Epoch 7/100\n",
      "750/750 [==============================] - 3s 4ms/step - loss: 0.1203 - accuracy: 0.9644 - val_loss: 0.1557 - val_accuracy: 0.9552\n",
      "Epoch 8/100\n",
      "750/750 [==============================] - 4s 5ms/step - loss: 0.1089 - accuracy: 0.9676 - val_loss: 0.1402 - val_accuracy: 0.9598\n",
      "Epoch 9/100\n",
      "750/750 [==============================] - 3s 4ms/step - loss: 0.0988 - accuracy: 0.9707 - val_loss: 0.1344 - val_accuracy: 0.9622\n",
      "Epoch 10/100\n",
      "750/750 [==============================] - 3s 4ms/step - loss: 0.0897 - accuracy: 0.9736 - val_loss: 0.1314 - val_accuracy: 0.9622\n",
      "Epoch 11/100\n",
      "750/750 [==============================] - 3s 5ms/step - loss: 0.0824 - accuracy: 0.9761 - val_loss: 0.1268 - val_accuracy: 0.9638\n",
      "Epoch 12/100\n",
      "750/750 [==============================] - 3s 5ms/step - loss: 0.0762 - accuracy: 0.9774 - val_loss: 0.1208 - val_accuracy: 0.9639\n",
      "Epoch 13/100\n",
      "750/750 [==============================] - 3s 4ms/step - loss: 0.0695 - accuracy: 0.9797 - val_loss: 0.1162 - val_accuracy: 0.9665\n",
      "Epoch 14/100\n",
      "750/750 [==============================] - 3s 4ms/step - loss: 0.0650 - accuracy: 0.9802 - val_loss: 0.1158 - val_accuracy: 0.9674\n",
      "Epoch 15/100\n",
      "750/750 [==============================] - 3s 4ms/step - loss: 0.0601 - accuracy: 0.9820 - val_loss: 0.1114 - val_accuracy: 0.9689\n",
      "Epoch 16/100\n",
      "750/750 [==============================] - 3s 4ms/step - loss: 0.0558 - accuracy: 0.9833 - val_loss: 0.1174 - val_accuracy: 0.9660\n",
      "Epoch 17/100\n",
      "750/750 [==============================] - 3s 4ms/step - loss: 0.0512 - accuracy: 0.9848 - val_loss: 0.1103 - val_accuracy: 0.9675\n",
      "Epoch 18/100\n",
      "750/750 [==============================] - 3s 4ms/step - loss: 0.0473 - accuracy: 0.9861 - val_loss: 0.1104 - val_accuracy: 0.9688\n",
      "Epoch 19/100\n",
      "750/750 [==============================] - 3s 4ms/step - loss: 0.0441 - accuracy: 0.9873 - val_loss: 0.1100 - val_accuracy: 0.9688\n",
      "Epoch 20/100\n",
      "750/750 [==============================] - 3s 4ms/step - loss: 0.0407 - accuracy: 0.9881 - val_loss: 0.1066 - val_accuracy: 0.9704\n",
      "Epoch 21/100\n",
      "750/750 [==============================] - 3s 4ms/step - loss: 0.0384 - accuracy: 0.9886 - val_loss: 0.1126 - val_accuracy: 0.9692\n",
      "Epoch 22/100\n",
      "750/750 [==============================] - 3s 4ms/step - loss: 0.0348 - accuracy: 0.9901 - val_loss: 0.1177 - val_accuracy: 0.9645\n",
      "Epoch 23/100\n",
      "750/750 [==============================] - 3s 5ms/step - loss: 0.0329 - accuracy: 0.9903 - val_loss: 0.1084 - val_accuracy: 0.9682\n",
      "Epoch 24/100\n",
      "750/750 [==============================] - 3s 5ms/step - loss: 0.0306 - accuracy: 0.9916 - val_loss: 0.1106 - val_accuracy: 0.9714\n",
      "Epoch 25/100\n",
      "750/750 [==============================] - 3s 4ms/step - loss: 0.0282 - accuracy: 0.9919 - val_loss: 0.1135 - val_accuracy: 0.9680\n",
      "Epoch 26/100\n",
      "750/750 [==============================] - 3s 4ms/step - loss: 0.0271 - accuracy: 0.9922 - val_loss: 0.1115 - val_accuracy: 0.9697\n",
      "Epoch 27/100\n",
      "750/750 [==============================] - 3s 4ms/step - loss: 0.0246 - accuracy: 0.9930 - val_loss: 0.1086 - val_accuracy: 0.9717\n",
      "Epoch 28/100\n",
      "750/750 [==============================] - 3s 4ms/step - loss: 0.0219 - accuracy: 0.9941 - val_loss: 0.1144 - val_accuracy: 0.9712\n",
      "Epoch 29/100\n",
      "750/750 [==============================] - 3s 4ms/step - loss: 0.0206 - accuracy: 0.9948 - val_loss: 0.1209 - val_accuracy: 0.9677\n",
      "Epoch 30/100\n",
      "750/750 [==============================] - 3s 4ms/step - loss: 0.0193 - accuracy: 0.9950 - val_loss: 0.1282 - val_accuracy: 0.9671\n",
      "Epoch 31/100\n",
      "750/750 [==============================] - 3s 4ms/step - loss: 0.0180 - accuracy: 0.9953 - val_loss: 0.1135 - val_accuracy: 0.9712\n",
      "Epoch 32/100\n",
      "750/750 [==============================] - 3s 4ms/step - loss: 0.0160 - accuracy: 0.9966 - val_loss: 0.1176 - val_accuracy: 0.9700\n",
      "Epoch 33/100\n",
      "750/750 [==============================] - 3s 4ms/step - loss: 0.0148 - accuracy: 0.9966 - val_loss: 0.1140 - val_accuracy: 0.9715\n",
      "Epoch 34/100\n",
      "750/750 [==============================] - 3s 4ms/step - loss: 0.0134 - accuracy: 0.9971 - val_loss: 0.1165 - val_accuracy: 0.9703\n",
      "Epoch 35/100\n",
      "750/750 [==============================] - 3s 4ms/step - loss: 0.0127 - accuracy: 0.9973 - val_loss: 0.1179 - val_accuracy: 0.9706\n",
      "Epoch 36/100\n",
      "750/750 [==============================] - 3s 4ms/step - loss: 0.0117 - accuracy: 0.9976 - val_loss: 0.1237 - val_accuracy: 0.9682\n",
      "Epoch 37/100\n",
      "750/750 [==============================] - 3s 4ms/step - loss: 0.0106 - accuracy: 0.9982 - val_loss: 0.1151 - val_accuracy: 0.9710\n",
      "Epoch 38/100\n",
      "750/750 [==============================] - 3s 4ms/step - loss: 0.0096 - accuracy: 0.9985 - val_loss: 0.1171 - val_accuracy: 0.9714\n",
      "Epoch 39/100\n",
      "750/750 [==============================] - 3s 4ms/step - loss: 0.0086 - accuracy: 0.9988 - val_loss: 0.1197 - val_accuracy: 0.9702\n",
      "Epoch 40/100\n",
      "750/750 [==============================] - 3s 4ms/step - loss: 0.0082 - accuracy: 0.9989 - val_loss: 0.1198 - val_accuracy: 0.9714\n",
      "Epoch 41/100\n",
      "750/750 [==============================] - 3s 4ms/step - loss: 0.0074 - accuracy: 0.9990 - val_loss: 0.1214 - val_accuracy: 0.9707\n",
      "Epoch 42/100\n",
      "750/750 [==============================] - 3s 4ms/step - loss: 0.0066 - accuracy: 0.9992 - val_loss: 0.1220 - val_accuracy: 0.9714\n",
      "Epoch 43/100\n",
      "750/750 [==============================] - 3s 4ms/step - loss: 0.0061 - accuracy: 0.9994 - val_loss: 0.1244 - val_accuracy: 0.9713\n",
      "Epoch 44/100\n",
      "750/750 [==============================] - 3s 4ms/step - loss: 0.0056 - accuracy: 0.9994 - val_loss: 0.1259 - val_accuracy: 0.9708\n",
      "Epoch 45/100\n",
      "750/750 [==============================] - 3s 4ms/step - loss: 0.0049 - accuracy: 0.9996 - val_loss: 0.1259 - val_accuracy: 0.9713\n",
      "Epoch 46/100\n",
      "750/750 [==============================] - 3s 4ms/step - loss: 0.0048 - accuracy: 0.9996 - val_loss: 0.1283 - val_accuracy: 0.9707\n",
      "Epoch 47/100\n",
      "750/750 [==============================] - 3s 4ms/step - loss: 0.0045 - accuracy: 0.9998 - val_loss: 0.1278 - val_accuracy: 0.9717\n",
      "Epoch 48/100\n",
      "750/750 [==============================] - 3s 4ms/step - loss: 0.0041 - accuracy: 0.9998 - val_loss: 0.1293 - val_accuracy: 0.9715\n",
      "Epoch 49/100\n",
      "750/750 [==============================] - 3s 4ms/step - loss: 0.0038 - accuracy: 0.9996 - val_loss: 0.1294 - val_accuracy: 0.9720\n",
      "Epoch 50/100\n",
      "750/750 [==============================] - 3s 4ms/step - loss: 0.0034 - accuracy: 0.9999 - val_loss: 0.1301 - val_accuracy: 0.9713\n",
      "Epoch 51/100\n",
      "750/750 [==============================] - 3s 4ms/step - loss: 0.0032 - accuracy: 0.9998 - val_loss: 0.1312 - val_accuracy: 0.9711\n",
      "Epoch 52/100\n",
      "750/750 [==============================] - 3s 4ms/step - loss: 0.0030 - accuracy: 0.9999 - val_loss: 0.1330 - val_accuracy: 0.9707\n",
      "Epoch 53/100\n",
      "750/750 [==============================] - 3s 4ms/step - loss: 0.0027 - accuracy: 0.9999 - val_loss: 0.1330 - val_accuracy: 0.9716\n",
      "Epoch 54/100\n",
      "750/750 [==============================] - 3s 4ms/step - loss: 0.0025 - accuracy: 0.9999 - val_loss: 0.1342 - val_accuracy: 0.9719\n",
      "Epoch 55/100\n",
      "750/750 [==============================] - 3s 4ms/step - loss: 0.0025 - accuracy: 1.0000 - val_loss: 0.1348 - val_accuracy: 0.9716\n",
      "Epoch 56/100\n",
      "750/750 [==============================] - 3s 4ms/step - loss: 0.0023 - accuracy: 1.0000 - val_loss: 0.1359 - val_accuracy: 0.9712\n",
      "Epoch 57/100\n",
      "750/750 [==============================] - 3s 4ms/step - loss: 0.0022 - accuracy: 1.0000 - val_loss: 0.1366 - val_accuracy: 0.9709\n",
      "Epoch 58/100\n",
      "750/750 [==============================] - 3s 4ms/step - loss: 0.0021 - accuracy: 1.0000 - val_loss: 0.1369 - val_accuracy: 0.9717\n",
      "Epoch 59/100\n",
      "750/750 [==============================] - 3s 4ms/step - loss: 0.0019 - accuracy: 1.0000 - val_loss: 0.1384 - val_accuracy: 0.9713\n",
      "Epoch 60/100\n",
      "750/750 [==============================] - 3s 4ms/step - loss: 0.0018 - accuracy: 1.0000 - val_loss: 0.1390 - val_accuracy: 0.9711\n",
      "Epoch 61/100\n",
      "750/750 [==============================] - 3s 4ms/step - loss: 0.0018 - accuracy: 1.0000 - val_loss: 0.1403 - val_accuracy: 0.9714\n",
      "Epoch 62/100\n",
      "750/750 [==============================] - 3s 4ms/step - loss: 0.0017 - accuracy: 1.0000 - val_loss: 0.1412 - val_accuracy: 0.9719\n",
      "Epoch 63/100\n",
      "750/750 [==============================] - 3s 4ms/step - loss: 0.0016 - accuracy: 1.0000 - val_loss: 0.1407 - val_accuracy: 0.9715\n",
      "Epoch 64/100\n",
      "750/750 [==============================] - 3s 4ms/step - loss: 0.0015 - accuracy: 1.0000 - val_loss: 0.1422 - val_accuracy: 0.9707\n",
      "Epoch 65/100\n",
      "750/750 [==============================] - 3s 4ms/step - loss: 0.0015 - accuracy: 1.0000 - val_loss: 0.1433 - val_accuracy: 0.9726\n",
      "Epoch 66/100\n",
      "750/750 [==============================] - 3s 4ms/step - loss: 0.0014 - accuracy: 1.0000 - val_loss: 0.1439 - val_accuracy: 0.9712\n",
      "Epoch 67/100\n",
      "750/750 [==============================] - 3s 4ms/step - loss: 0.0014 - accuracy: 1.0000 - val_loss: 0.1443 - val_accuracy: 0.9709\n",
      "Epoch 68/100\n",
      "750/750 [==============================] - 3s 4ms/step - loss: 0.0013 - accuracy: 1.0000 - val_loss: 0.1447 - val_accuracy: 0.9712\n",
      "Epoch 69/100\n",
      "750/750 [==============================] - 3s 4ms/step - loss: 0.0013 - accuracy: 1.0000 - val_loss: 0.1463 - val_accuracy: 0.9715\n",
      "Epoch 70/100\n",
      "750/750 [==============================] - 4s 5ms/step - loss: 0.0012 - accuracy: 1.0000 - val_loss: 0.1468 - val_accuracy: 0.9715\n",
      "Epoch 71/100\n",
      "750/750 [==============================] - 3s 4ms/step - loss: 0.0012 - accuracy: 1.0000 - val_loss: 0.1472 - val_accuracy: 0.9717\n",
      "Epoch 72/100\n",
      "750/750 [==============================] - 3s 4ms/step - loss: 0.0011 - accuracy: 1.0000 - val_loss: 0.1479 - val_accuracy: 0.9720\n",
      "Epoch 73/100\n",
      "750/750 [==============================] - 3s 4ms/step - loss: 0.0011 - accuracy: 1.0000 - val_loss: 0.1481 - val_accuracy: 0.9715\n",
      "Epoch 74/100\n",
      "750/750 [==============================] - 3s 4ms/step - loss: 0.0011 - accuracy: 1.0000 - val_loss: 0.1492 - val_accuracy: 0.9722\n",
      "Epoch 75/100\n",
      "750/750 [==============================] - 3s 4ms/step - loss: 0.0010 - accuracy: 1.0000 - val_loss: 0.1502 - val_accuracy: 0.9710\n",
      "Epoch 76/100\n",
      "750/750 [==============================] - 3s 4ms/step - loss: 9.9239e-04 - accuracy: 1.0000 - val_loss: 0.1504 - val_accuracy: 0.9718\n",
      "Epoch 77/100\n",
      "750/750 [==============================] - 3s 4ms/step - loss: 9.6647e-04 - accuracy: 1.0000 - val_loss: 0.1508 - val_accuracy: 0.9722\n",
      "Epoch 78/100\n",
      "750/750 [==============================] - 3s 4ms/step - loss: 9.3794e-04 - accuracy: 1.0000 - val_loss: 0.1516 - val_accuracy: 0.9720\n",
      "Epoch 79/100\n",
      "750/750 [==============================] - 3s 4ms/step - loss: 9.1484e-04 - accuracy: 1.0000 - val_loss: 0.1521 - val_accuracy: 0.9717\n",
      "Epoch 80/100\n",
      "750/750 [==============================] - 3s 4ms/step - loss: 8.8552e-04 - accuracy: 1.0000 - val_loss: 0.1527 - val_accuracy: 0.9713\n",
      "Epoch 81/100\n",
      "750/750 [==============================] - 3s 4ms/step - loss: 8.6045e-04 - accuracy: 1.0000 - val_loss: 0.1534 - val_accuracy: 0.9717\n",
      "Epoch 82/100\n",
      "750/750 [==============================] - 3s 4ms/step - loss: 8.3420e-04 - accuracy: 1.0000 - val_loss: 0.1536 - val_accuracy: 0.9720\n",
      "Epoch 83/100\n",
      "750/750 [==============================] - 3s 4ms/step - loss: 8.1474e-04 - accuracy: 1.0000 - val_loss: 0.1543 - val_accuracy: 0.9720\n",
      "Epoch 84/100\n",
      "750/750 [==============================] - 3s 4ms/step - loss: 8.0121e-04 - accuracy: 1.0000 - val_loss: 0.1541 - val_accuracy: 0.9719\n",
      "Epoch 85/100\n",
      "750/750 [==============================] - 3s 4ms/step - loss: 7.7220e-04 - accuracy: 1.0000 - val_loss: 0.1548 - val_accuracy: 0.9721\n",
      "Epoch 86/100\n",
      "750/750 [==============================] - 3s 4ms/step - loss: 7.5862e-04 - accuracy: 1.0000 - val_loss: 0.1552 - val_accuracy: 0.9715\n",
      "Epoch 87/100\n",
      "750/750 [==============================] - 3s 4ms/step - loss: 7.3998e-04 - accuracy: 1.0000 - val_loss: 0.1560 - val_accuracy: 0.9718\n",
      "Epoch 88/100\n",
      "750/750 [==============================] - 3s 4ms/step - loss: 7.1651e-04 - accuracy: 1.0000 - val_loss: 0.1564 - val_accuracy: 0.9718\n",
      "Epoch 89/100\n",
      "750/750 [==============================] - 3s 4ms/step - loss: 7.0620e-04 - accuracy: 1.0000 - val_loss: 0.1571 - val_accuracy: 0.9718\n",
      "Epoch 90/100\n",
      "750/750 [==============================] - 3s 4ms/step - loss: 6.8308e-04 - accuracy: 1.0000 - val_loss: 0.1566 - val_accuracy: 0.9725\n",
      "Epoch 91/100\n",
      "750/750 [==============================] - 3s 4ms/step - loss: 6.7005e-04 - accuracy: 1.0000 - val_loss: 0.1580 - val_accuracy: 0.9718\n",
      "Epoch 92/100\n",
      "750/750 [==============================] - 3s 4ms/step - loss: 6.5527e-04 - accuracy: 1.0000 - val_loss: 0.1587 - val_accuracy: 0.9713\n",
      "Epoch 93/100\n",
      "750/750 [==============================] - 3s 4ms/step - loss: 6.4375e-04 - accuracy: 1.0000 - val_loss: 0.1583 - val_accuracy: 0.9718\n",
      "Epoch 94/100\n",
      "750/750 [==============================] - 3s 4ms/step - loss: 6.2340e-04 - accuracy: 1.0000 - val_loss: 0.1589 - val_accuracy: 0.9720\n",
      "Epoch 95/100\n",
      "750/750 [==============================] - 3s 4ms/step - loss: 6.1411e-04 - accuracy: 1.0000 - val_loss: 0.1593 - val_accuracy: 0.9720\n",
      "Epoch 96/100\n",
      "750/750 [==============================] - 3s 4ms/step - loss: 6.0463e-04 - accuracy: 1.0000 - val_loss: 0.1595 - val_accuracy: 0.9717\n",
      "Epoch 97/100\n",
      "750/750 [==============================] - 3s 4ms/step - loss: 5.8924e-04 - accuracy: 1.0000 - val_loss: 0.1602 - val_accuracy: 0.9719\n",
      "Epoch 98/100\n",
      "750/750 [==============================] - 3s 4ms/step - loss: 5.8125e-04 - accuracy: 1.0000 - val_loss: 0.1605 - val_accuracy: 0.9719\n",
      "Epoch 99/100\n",
      "750/750 [==============================] - 3s 4ms/step - loss: 5.6599e-04 - accuracy: 1.0000 - val_loss: 0.1612 - val_accuracy: 0.9722\n",
      "Epoch 100/100\n",
      "750/750 [==============================] - 3s 4ms/step - loss: 5.5976e-04 - accuracy: 1.0000 - val_loss: 0.1614 - val_accuracy: 0.9718\n"
     ]
    },
    {
     "data": {
      "text/plain": [
       "<keras.callbacks.History at 0x26408d64a60>"
      ]
     },
     "execution_count": 41,
     "metadata": {},
     "output_type": "execute_result"
    }
   ],
   "source": [
    "ann_second_arch.fit(X_train, ann_y_train, epochs=100, batch_size=64, validation_data=(X_test, ann_y_test))"
   ]
  },
  {
   "cell_type": "code",
   "execution_count": 42,
   "metadata": {
    "id": "9S5a5R5ZF47t"
   },
   "outputs": [
    {
     "name": "stdout",
     "output_type": "stream",
     "text": [
      "375/375 [==============================] - 1s 2ms/step\n"
     ]
    }
   ],
   "source": [
    "ann_second_arch_pred = ann_second_arch.predict(X_test)"
   ]
  },
  {
   "cell_type": "code",
   "execution_count": 43,
   "metadata": {
    "id": "eucGOl89F47t"
   },
   "outputs": [
    {
     "name": "stdout",
     "output_type": "stream",
     "text": [
      "Accuracy of the model is: 93.4167%\n"
     ]
    }
   ],
   "source": [
    "ann_second_arch_pred = tf.argmax(ann_second_arch_pred, axis=1)\n",
    "\n",
    "ann_second_arch_accuracy = accuracy_score(y_test, ann_second_arch_pred ) * 100\n",
    "ann_second_arch_accuracy = round(ann_second_arch_accuracy, 4)\n",
    "\n",
    "print(f\"Accuracy of the model is: {ann_second_arch_accuracy}%\")"
   ]
  },
  {
   "cell_type": "markdown",
   "metadata": {
    "id": "ZGvW0FzZF47t"
   },
   "source": [
    "Compare the outcomes of the first and second experiments, discerning\n",
    "which approach yields the highest accuracy on the validation dataset.\n"
   ]
  },
  {
   "cell_type": "code",
   "execution_count": 44,
   "metadata": {
    "id": "uB_bUToHF47t"
   },
   "outputs": [],
   "source": [
    "best_model_tuple = max(\n",
    "                    (ann_first_arch, ann_first_arch_accuracy, ann_first_arch_pred.numpy().tolist(), \"ann_first_arch\"),\n",
    "                    (ann_second_arch, ann_second_arch_accuracy, ann_second_arch_pred.numpy().tolist(), \"ann_second_arch\"),\n",
    "                    (knn_model, knn_accuracy, knn_pred.tolist(), \"knn\"),\n",
    "                    key=lambda item: item[1]\n",
    "                )\n",
    "best_model, best_model_accuracy, best_model_pred, best_model_name = best_model_tuple"
   ]
  },
  {
   "cell_type": "code",
   "execution_count": 45,
   "metadata": {
    "id": "zzS7QWwqF47t"
   },
   "outputs": [
    {
     "name": "stdout",
     "output_type": "stream",
     "text": [
      "Best model name is:  knn\n",
      "Best model accuracy is: 97.22%\n",
      "Confusion Matrix: \n",
      " [[1144    0    1    0    0    0    6    1    1    0]\n",
      " [   0 1373    2    1    0    0    1    3    1    0]\n",
      " [   4   12 1180    1    2    1    3   14    2    1]\n",
      " [   0    2    5 1177    0   13    0    8    6    6]\n",
      " [   1   11    0    0 1137    0    2    2    1   21]\n",
      " [   2    4    0   11    1 1000   17    2    3    7]\n",
      " [   3    0    0    0    1    5 1214    0    1    0]\n",
      " [   0   15    3    0    4    0    0 1199    1   12]\n",
      " [   3   16    2   14    2   13    6    4 1128   16]\n",
      " [   2    2    0    4   10    0    0   11    2 1114]]\n"
     ]
    }
   ],
   "source": [
    "# Get the confusion matrix of the best model.\n",
    "\n",
    "print(\"Best model name is: \", best_model_name)\n",
    "print(f\"Best model accuracy is: {best_model_accuracy}%\")\n",
    "print(\"Confusion Matrix: \\n\", confusion_matrix(y_test, best_model_pred))"
   ]
  },
  {
   "cell_type": "code",
   "execution_count": 46,
   "metadata": {
    "id": "3XwCL6EUF47t"
   },
   "outputs": [],
   "source": [
    "# Save the best model.\n",
    "if(best_model_name == 'knn'):\n",
    "    from joblib import dump\n",
    "    dump(best_model, 'best_model')\n",
    "else:\n",
    "    best_model.save('best_model')"
   ]
  },
  {
   "cell_type": "code",
   "execution_count": 47,
   "metadata": {
    "id": "_RNKYllqF47u"
   },
   "outputs": [],
   "source": [
    "del best_model"
   ]
  },
  {
   "cell_type": "code",
   "execution_count": 48,
   "metadata": {
    "id": "zp7go1l2F47u"
   },
   "outputs": [
    {
     "name": "stdout",
     "output_type": "stream",
     "text": [
      "KNeighborsClassifier(weights='distance')\n"
     ]
    }
   ],
   "source": [
    "if(best_model_name == 'knn'):\n",
    "    best_model = load('best_model')\n",
    "else:\n",
    "    best_model = keras.models.load_model('best_model')\n",
    "\n",
    "print(best_model)"
   ]
  },
  {
   "cell_type": "code",
   "execution_count": 49,
   "metadata": {
    "id": "7sQWgIevF47u"
   },
   "outputs": [],
   "source": [
    "test_data = pd.read_csv('Data/mnist_test.csv')"
   ]
  },
  {
   "cell_type": "code",
   "execution_count": 50,
   "metadata": {
    "id": "YjYCSb6xF47u"
   },
   "outputs": [],
   "source": [
    "# Normalize each image by dividing each pixel by 255.\n",
    "test_data.iloc[:, 1:] = test_data.drop('label', axis=1) / 255.0"
   ]
  },
  {
   "cell_type": "code",
   "execution_count": 51,
   "metadata": {
    "id": "LHQz2v_PF47u"
   },
   "outputs": [],
   "source": [
    "best_model_pred = best_model.predict(test_data.iloc[: , 1:])"
   ]
  },
  {
   "cell_type": "code",
   "execution_count": 52,
   "metadata": {
    "id": "rNKRgu2bF47u"
   },
   "outputs": [
    {
     "name": "stdout",
     "output_type": "stream",
     "text": [
      "Accuracy of the best model is: 97.0%\n"
     ]
    }
   ],
   "source": [
    "if(best_model_name != 'knn'):\n",
    "    best_model_pred = tf.argmax(best_model_pred, axis=1)\n",
    "\n",
    "best_model_accuracy = accuracy_score(test_data['label'], best_model_pred)\n",
    "best_model_accuracy = round(best_model_accuracy, 2) * 100\n",
    "\n",
    "print(f\"Accuracy of the best model is: {best_model_accuracy}%\")"
   ]
  }
 ],
 "metadata": {
  "accelerator": "TPU",
  "colab": {
   "provenance": []
  },
  "kernelspec": {
   "display_name": "tensorflow_env",
   "language": "python",
   "name": "python3"
  },
  "language_info": {
   "codemirror_mode": {
    "name": "ipython",
    "version": 3
   },
   "file_extension": ".py",
   "mimetype": "text/x-python",
   "name": "python",
   "nbconvert_exporter": "python",
   "pygments_lexer": "ipython3",
   "version": "3.10.13"
  }
 },
 "nbformat": 4,
 "nbformat_minor": 4
}
